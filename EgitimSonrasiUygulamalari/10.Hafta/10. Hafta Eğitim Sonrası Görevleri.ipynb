{
 "cells": [
  {
   "attachments": {},
   "cell_type": "markdown",
   "metadata": {},
   "source": [
    "# Problem 1 "
   ]
  },
  {
   "cell_type": "code",
   "execution_count": 5,
   "metadata": {},
   "outputs": [
    {
     "name": "stdout",
     "output_type": "stream",
     "text": [
      "[70 25 13 44 55]\n",
      "[13 25 44 55 70]\n"
     ]
    }
   ],
   "source": [
    "# 1 - numpy kütüphanesini import edin\n",
    "import numpy as np\n",
    "\n",
    "# 2 - 5 elemanlı bir numpy array oluşturun\n",
    "snn = np.array([70,25,13,44,55])\n",
    "print(snn)\n",
    "# 3 - Oluşturduğunuz arrayi küçükten büyüğe sıralayın.\n",
    "snn.sort()\n",
    "print(snn)\n"
   ]
  },
  {
   "attachments": {},
   "cell_type": "markdown",
   "metadata": {},
   "source": [
    "# Problem 2"
   ]
  },
  {
   "cell_type": "code",
   "execution_count": 56,
   "metadata": {},
   "outputs": [
    {
     "name": "stdout",
     "output_type": "stream",
     "text": [
      "[10 15 30 45 60]\n",
      "[ 5  6  7  8  9 10 11 12 13 14]\n",
      "[50 55 60 65 70 75 80 85 90 95]\n",
      "[0. 0. 0. 0. 0. 0. 0. 0. 0. 0.]\n",
      "[1. 1. 1. 1. 1. 1. 1. 1. 1. 1.]\n",
      "[  0.  25.  50.  75. 100.]\n",
      "[14 28 20 19 14]\n",
      "[-1.         -0.77777778 -0.55555556 -0.33333333 -0.11111111  0.11111111\n",
      "  0.33333333  0.55555556  0.77777778  1.        ]\n",
      "[[49 20 17 38 33]\n",
      " [12 28 30 36 47]\n",
      " [28 10 19 25 22]]\n",
      "(3, 5)\n",
      "8\n",
      "49\n",
      "10\n",
      "27.6\n",
      "En büyük değer: 49\n",
      "En büyük değerin indeksi: (np.int64(0), np.int64(0))\n",
      "[10 11 12]\n",
      "[19 18 17 16 15 14 13 12 11 10]\n",
      "[48 47 12 27 26]\n",
      "31\n",
      "[48 30 18]\n",
      "[[2304 2209  144  729  676]\n",
      " [ 900  484  625  324  529]\n",
      " [ 324  576  121  961 1681]]\n",
      "[ 2  4  6  8 10 12 14 16 18 20 22 24 26 28 30 32 34 36 38 40 42 44 46 48]\n"
     ]
    }
   ],
   "source": [
    "# 1- (10,15,30,45,60) değerlerine sahip numpy dizisi oluşturunuz.\n",
    "deger = np.array([10,15,30,45,60])\n",
    "print(deger)\n",
    "\n",
    "# 2- (5-15) arasındaki sayılarla numpy dizisi oluşturunuz.\n",
    "x = np.arange(5,15)\n",
    "print(x)\n",
    " \n",
    "# 3- (50-100) arasında 5'er 5'er artarak numpy dizisi oluşturunuz.\n",
    "c = np.arange(50,100,5)\n",
    "print(c)\n",
    "\n",
    "# 4- 10 elemanlı sıfırlardan oluşan bir dizi oluşturunuz.\n",
    "print(np.zeros(10))\n",
    "\n",
    "# 5- 10 elemanlı birlerden oluşan bir dizi oluşturunuz.\n",
    "print(np.ones(10))\n",
    "\n",
    "# 6- (0-100) arasında eşit aralıklı 5 sayı üretin.\n",
    "a = np.linspace(0,100,5)\n",
    "print(a)\n",
    "\n",
    "# 7- (10-30) arasında rastgele 5 tane tamsayı üretin.\n",
    "print(np.random.randint(10,30,5))\n",
    "# 8- [-1 ile 1] arasında 10 adet sayı üretin.\n",
    "z= np.linspace(-1,1,10)\n",
    "print(z)\n",
    "\n",
    "# 9- (3x5) boyutlarında (10-50) arasında rastgele bir matris oluşturunuz.\n",
    "sayi = np.random.randint(10,50, size=(3,5))\n",
    "print(sayi)\n",
    "\n",
    "# 10- Üretilen matrisin satır ve sütun sayıları toplamlarını hesaplayınız ?\n",
    "print(sayi.shape)\n",
    "rows, cols = sayi.shape\n",
    "topl = rows + cols\n",
    "print(topl)\n",
    "\n",
    "# 11- Üretilen matrisin en büyük, en küçük ve ortalaması nedir ?\n",
    "print(sayi.max())\n",
    "print(sayi.min())\n",
    "print(sayi.mean())\n",
    "\n",
    "# 12- Üretilen matrisin en büyük değerinin indeksi kaçtır ?\n",
    "indeks = np.unravel_index(np.argmax(sayi), sayi.shape)\n",
    "a = sayi.max()\n",
    "print(\"En büyük değer:\", a)\n",
    "print(\"En büyük değerin indeksi:\", indeks)\n",
    "# 13- (10-20) arasındaki sayıları içeren dizinin ilk 3 elemanını seçiniz.\n",
    "y = np.arange(10,20)\n",
    "print(y[0:3:])\n",
    "\n",
    "# 14- Üretilen dizinin elemanlarını tersten yazdırın.\n",
    "print(y[::-1])\n",
    "\n",
    "# 15- Üretilen matrisin ilk satırını seçiniz.\n",
    "sayi = np.random.randint(10,50, size=(3,5))\n",
    "print(sayi[0])\n",
    "# 16- Üretilen matrisin 2.satır 3.sütundaki elemanı hangisidir ?\n",
    "print(sayi[2,3])\n",
    "\n",
    "# 17- Üretilen matrisin tüm satırlardaki ilk elemanı seçiniz.\n",
    "print(sayi[:,0])\n",
    "\n",
    "# 18- Üretilen matrisin her bir elemanının karesini alınız.\n",
    "print(np.power(sayi,2))\n",
    "\n",
    "# 19- Üretilen matris elemanlarının hangisi pozitif çift sayıdır ? Aralığı (-50,+50) arasında yapınız.\n",
    "cift = np.arange(-50, 50)\n",
    "sonux =  (cift > 0) & (cift % 2==0) \n",
    "a = cift[sonux]\n",
    "print(cift)\n",
    "print(a)"
   ]
  }
 ],
 "metadata": {
  "kernelspec": {
   "display_name": "Python 3",
   "language": "python",
   "name": "python3"
  },
  "language_info": {
   "codemirror_mode": {
    "name": "ipython",
    "version": 3
   },
   "file_extension": ".py",
   "mimetype": "text/x-python",
   "name": "python",
   "nbconvert_exporter": "python",
   "pygments_lexer": "ipython3",
   "version": "3.12.3"
  },
  "orig_nbformat": 4,
  "vscode": {
   "interpreter": {
    "hash": "5026d2d6e7aaaaba093def813beadff083d8733e4a511af01735cbabd156995d"
   }
  }
 },
 "nbformat": 4,
 "nbformat_minor": 2
}
